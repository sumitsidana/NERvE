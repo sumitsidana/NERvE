{
 "cells": [
  {
   "cell_type": "code",
   "execution_count": null,
   "metadata": {
    "collapsed": false
   },
   "outputs": [],
   "source": [
    "import random\n",
    "import numpy as np\n",
    "import random\n",
    "import pickle\n",
    "import letor_metrics\n",
    "import pyximport\n",
    "import sys\n",
    "from tqdm import tqdm\n",
    "pyximport.install()\n",
    "import matplotlib\n",
    "\n",
    "\n",
    "raw_data_train = np.loadtxt('/data/recnet_draft/ml100k/train_all_raw.csv', skiprows = 1, delimiter=',')\n",
    "raw_data_test = np.loadtxt('/data/recnet_draft/ml100k/test_all_raw.csv', skiprows = 1, delimiter=',')\n",
    "raw_data = np.concatenate((raw_data_train, raw_data_test))\n",
    "from dataset_tt_static import TripletsDataset\n",
    "\n",
    "ds = TripletsDataset(raw_data_train, raw_data_test, threshold_user=60, rnd_seed=42)\n",
    "ds.train_test_split()\n",
    "\n",
    "ds.init_cached_random()\n",
    "import tensorflow as tf\n",
    "import bprnn_ml100k_param_tune_all\n",
    "import imp\n",
    "\n",
    "N_USERS = int(max(raw_data[:, 0])) + 1\n",
    "N_ITEMS = int(max(raw_data[:, 1])) + 1\n",
    "N_EMBEDDINGS = 2\n",
    "\n",
    "import tensorflow.contrib.slim as slim\n",
    "imp.reload(bprnn_ml100k_param_tune_all)\n",
    "\n",
    "#%%\n",
    "def inner_network(user_emb, item_emb):\n",
    "    joined_input = tf.concat([user_emb, item_emb], 1)\n",
    "    net = slim.fully_connected(inputs=joined_input, num_outputs=16, activation_fn=tf.nn.relu)\n",
    "#     net = slim.fully_connected(inputs=joined_input, num_outputs=64, activation_fn=tf.nn.relu)\n",
    "#     net = slim.dro\n",
    "    net = slim.fully_connected(inputs=net, num_outputs=1, activation_fn=None)\n",
    "    return net\n",
    "\n",
    "model = bprnn_ml100k_param_tune_all.BPR_NN(N_USERS, N_ITEMS, N_EMBEDDINGS, alpha=1, beta=1, alpha_reg=0.005, inner_net=inner_network)\n",
    "model.build_graph()\n",
    "model.initialize_session()\n",
    "\n",
    "losses = []\n",
    "batch_size = 512\n",
    "for n_batches, cur_optim in [(10000, model.trainer_3)]:\n",
    "    for i in tqdm(range(n_batches)):\n",
    "        batch = ds.sample_train_batch(n_samples=batch_size)\n",
    "        fd = {\n",
    "            model.user_ids:  batch['users'], \n",
    "            model.left_ids:  batch['left_items'],\n",
    "            model.right_ids: batch['right_items'],\n",
    "            model.target_y:  batch['y'],\n",
    "        }\n",
    "        el, nl, reg, t, _ = model.session.run(\n",
    "            [model.embedding_loss, model.net_loss, model.regularization, model.target, cur_optim], \n",
    "            feed_dict=fd\n",
    "        )\n",
    "        losses.append((el, nl, reg, t))\n",
    "        if i%500==0:\n",
    "            user_norm = np.linalg.norm(model.weights_u)\n",
    "            item_norm = np.linalg.norm(model.weights_i)\n",
    "            print('[it {}] weight norms, users: {}, items: {}'.format(i, user_norm, item_norm))\n",
    "            print('[it {}] metrics (emb_loss, net_loss, reg, target): {}'.format(i, losses[-1]))"
   ]
  },
  {
   "cell_type": "code",
   "execution_count": null,
   "metadata": {
    "collapsed": false
   },
   "outputs": [],
   "source": [
    "from matplotlib.pyplot import *"
   ]
  },
  {
   "cell_type": "code",
   "execution_count": null,
   "metadata": {
    "collapsed": false
   },
   "outputs": [],
   "source": [
    "import matplotlib.pyplot as plt\n",
    "ints = [100, 500, 1000, 2000, 5000, 10000]\n",
    "pos = 1\n",
    "fig, ax = plt.subplots(nrows = 3, ncols = 2)\n",
    "#ax[-1, -1].axis('off')\n",
    "\n",
    "for int in ints:\n",
    "    axis = plt.subplot(3, 2, pos)\n",
    "    axis.plot([x[0] for x in losses[:int]], c='b', label='embedding_loss')\n",
    "    grid()\n",
    "    legend()\n",
    "    xlabel('n_batches')\n",
    "    ylabel('embedding loss')\n",
    "    yscale('log')\n",
    "    draw()\n",
    "    show(block=False)\n",
    "    pos = pos + 1\n",
    "    fig.savefig('/home/sumit/recnet_draft/plots/ml100k/embedding_loss_multipleplots_halfed.pdf')\n",
    "plt.close()"
   ]
  },
  {
   "cell_type": "code",
   "execution_count": null,
   "metadata": {
    "collapsed": true
   },
   "outputs": [],
   "source": [
    "import matplotlib.pyplot as plt\n",
    "ints = [100, 500, 1000, 2000, 5000, 10000]\n",
    "pos = 1\n",
    "fig, ax = plt.subplots(nrows=3, ncols=2)\n",
    "\n",
    "for int in ints:\n",
    "    axis = plt.subplot(3, 2, pos)\n",
    "    axis.plot([x[1] for x in losses[:int]], c='m', label='ranking_loss')\n",
    "    grid()\n",
    "    legend()\n",
    "    xlabel('n_batches')\n",
    "    ylabel('logloss')\n",
    "    yscale('log')\n",
    "    draw()\n",
    "    show(block=False)\n",
    "    pos = pos + 1\n",
    "    fig.savefig('/home/sumit/recnet_draft/plots/ml100k/ranking_loss_multipleplots_halfed.pdf')\n",
    "plt.close()"
   ]
  },
  {
   "cell_type": "code",
   "execution_count": null,
   "metadata": {
    "collapsed": false
   },
   "outputs": [],
   "source": [
    "import matplotlib.pyplot as plt\n",
    "ints = [100, 500, 1000, 2000, 5000, 10000]\n",
    "pos = 1\n",
    "fig, ax = plt.subplots(nrows=3, ncols=2)\n",
    "for int in ints:\n",
    "    axis = plt.subplot(3, 2, pos)\n",
    "    axis.plot([x[3] for x in losses[: int]], c='g', label='target')\n",
    "    grid()\n",
    "    legend()\n",
    "    xlabel('n_batches')\n",
    "    ylabel('recnet loss')\n",
    "    #yscale('log')\n",
    "    draw()\n",
    "    show(block=False)\n",
    "    pos = pos + 1\n",
    "    fig.savefig('/home/sumit/recnet_draft/plots/ml100k/target_loss_multipleplots_halfed.pdf')\n",
    "plt.close()\n",
    "    "
   ]
  },
  {
   "cell_type": "code",
   "execution_count": null,
   "metadata": {
    "collapsed": true
   },
   "outputs": [],
   "source": [
    "plt.close(\"all\")"
   ]
  },
  {
   "cell_type": "code",
   "execution_count": null,
   "metadata": {
    "collapsed": true
   },
   "outputs": [],
   "source": []
  }
 ],
 "metadata": {
  "kernelspec": {
   "display_name": "IPython (Python 3)",
   "language": "python",
   "name": "python3"
  },
  "language_info": {
   "codemirror_mode": {
    "name": "ipython",
    "version": 3
   },
   "file_extension": ".py",
   "mimetype": "text/x-python",
   "name": "python",
   "nbconvert_exporter": "python",
   "pygments_lexer": "ipython3",
   "version": "3.4.3"
  }
 },
 "nbformat": 4,
 "nbformat_minor": 0
}
