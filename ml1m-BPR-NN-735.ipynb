{
 "cells": [
  {
   "cell_type": "code",
   "execution_count": 1,
   "metadata": {
    "collapsed": false
   },
   "outputs": [
    {
     "name": "stdout",
     "output_type": "stream",
     "text": [
      "Populating the interactive namespace from numpy and matplotlib\n"
     ]
    },
    {
     "data": {
      "text/plain": [
       "(None, <pyximport.pyximport.PyxImporter at 0x7f7020230828>)"
      ]
     },
     "execution_count": 1,
     "metadata": {},
     "output_type": "execute_result"
    }
   ],
   "source": [
    "%pylab inline\n",
    "import random\n",
    "\n",
    "import numpy as np\n",
    "import random\n",
    "import pickle\n",
    "from tqdm import tqdm\n",
    "import letor_metrics\n",
    "import pyximport\n",
    "pyximport.install()"
   ]
  },
  {
   "cell_type": "code",
   "execution_count": 2,
   "metadata": {
    "collapsed": false
   },
   "outputs": [],
   "source": [
    "raw_data = np.loadtxt('/home/sumit/ml-100k/u.data', delimiter='\\t')"
   ]
  },
  {
   "cell_type": "code",
   "execution_count": 3,
   "metadata": {
    "collapsed": false
   },
   "outputs": [],
   "source": [
    " from dataset import TripletsDataset"
   ]
  },
  {
   "cell_type": "code",
   "execution_count": 4,
   "metadata": {
    "collapsed": false
   },
   "outputs": [
    {
     "name": "stderr",
     "output_type": "stream",
     "text": [
      "Split users:  90%|█████████ | 449/497 [00:00<00:00, 2050.39it/s]"
     ]
    },
    {
     "name": "stdout",
     "output_type": "stream",
     "text": [
      "Warning: random seed is None, default class seed (42) will be used\n"
     ]
    },
    {
     "name": "stderr",
     "output_type": "stream",
     "text": []
    }
   ],
   "source": [
    " ds = TripletsDataset(raw_data, threshold_user=60, rnd_seed=42)\n",
    " ds.train_test_split(n_train=50)"
   ]
  },
  {
   "cell_type": "code",
   "execution_count": 5,
   "metadata": {
    "collapsed": false
   },
   "outputs": [],
   "source": [
    "# pickle.dump(ds, open('./tmp/ds.pkl', 'wb'))\n",
    "# ds = pickle.load(open('./tmp/ds_50_mf.pkl', 'rb'))"
   ]
  },
  {
   "cell_type": "code",
   "execution_count": 5,
   "metadata": {
    "collapsed": false
   },
   "outputs": [],
   "source": [
    "ds.init_cached_random()"
   ]
  },
  {
   "cell_type": "markdown",
   "metadata": {
    "collapsed": true
   },
   "source": [
    "# define model"
   ]
  },
  {
   "cell_type": "code",
   "execution_count": 6,
   "metadata": {
    "collapsed": true
   },
   "outputs": [],
   "source": [
    "import tensorflow as tf\n",
    "import bprnn"
   ]
  },
  {
   "cell_type": "code",
   "execution_count": 7,
   "metadata": {
    "collapsed": true
   },
   "outputs": [],
   "source": [
    "import imp"
   ]
  },
  {
   "cell_type": "code",
   "execution_count": 8,
   "metadata": {
    "collapsed": false
   },
   "outputs": [
    {
     "data": {
      "text/plain": [
       "<module 'bprnn' from '/home/sumit/nnmf_ranking/nnmf/bprnn.py'>"
      ]
     },
     "execution_count": 8,
     "metadata": {},
     "output_type": "execute_result"
    }
   ],
   "source": [
    "imp.reload(bprnn)"
   ]
  },
  {
   "cell_type": "code",
   "execution_count": 48,
   "metadata": {
    "collapsed": false
   },
   "outputs": [],
   "source": [
    "# model.destroy()"
   ]
  },
  {
   "cell_type": "code",
   "execution_count": 27,
   "metadata": {
    "collapsed": false
   },
   "outputs": [],
   "source": [
    "N_USERS = 944 #int(max(raw_data[:, 0])) + 1\n",
    "N_ITEMS = 3953 #int(max(raw_data[:, 1])) + 1\n",
    "N_EMBEDDINGS = 50"
   ]
  },
  {
   "cell_type": "code",
   "execution_count": 28,
   "metadata": {
    "collapsed": true
   },
   "outputs": [],
   "source": [
    "import tensorflow.contrib.slim as slim\n",
    "\n",
    "def inner_network(user_emb, item_emb):\n",
    "    joined_input = tf.concat(1, [user_emb, item_emb])\n",
    "    net = slim.fully_connected(inputs=joined_input, num_outputs=64, activation_fn=tf.nn.relu)\n",
    "#     net = slim.fully_connected(inputs=joined_input, num_outputs=64, activation_fn=tf.nn.relu)\n",
    "#     net = slim.dro\n",
    "    net = slim.fully_connected(inputs=net, num_outputs=1, activation_fn=None)\n",
    "    return net"
   ]
  },
  {
   "cell_type": "code",
   "execution_count": 29,
   "metadata": {
    "collapsed": false
   },
   "outputs": [],
   "source": [
    "model = bprnn.BPR_NN(N_USERS, N_ITEMS, N_EMBEDDINGS, alpha=1.0, beta=0, alpha_reg=0.0, inner_net=inner_network)\n",
    "model.build_graph()\n",
    "model.initialize_session()"
   ]
  },
  {
   "cell_type": "code",
   "execution_count": 30,
   "metadata": {
    "collapsed": false
   },
   "outputs": [
    {
     "name": "stderr",
     "output_type": "stream",
     "text": [
      "  0%|          | 17/10000 [00:00<03:29, 47.58it/s]"
     ]
    },
    {
     "name": "stdout",
     "output_type": "stream",
     "text": [
      "[it 0] weight norms, users: 77.34105682373047, items: 62.930442810058594\n",
      "[it 0] metrics (emb_loss, net_loss, reg, target): (0.70853019, 0.69340169, 3.0484443, 0.70853019)\n"
     ]
    },
    {
     "name": "stderr",
     "output_type": "stream",
     "text": [
      "  5%|▌         | 522/10000 [00:03<01:05, 144.48it/s]"
     ]
    },
    {
     "name": "stdout",
     "output_type": "stream",
     "text": [
      "[it 500] weight norms, users: 77.54983520507812, items: 62.09654235839844\n",
      "[it 500] metrics (emb_loss, net_loss, reg, target): (0.65010059, 0.70061493, 3.1270266, 0.65010059)\n"
     ]
    },
    {
     "name": "stderr",
     "output_type": "stream",
     "text": [
      " 10%|█         | 1030/10000 [00:07<01:00, 148.53it/s]"
     ]
    },
    {
     "name": "stdout",
     "output_type": "stream",
     "text": [
      "[it 1000] weight norms, users: 79.74112701416016, items: 62.34030532836914\n",
      "[it 1000] metrics (emb_loss, net_loss, reg, target): (0.58504152, 0.70333648, 3.5288265, 0.58504152)\n"
     ]
    },
    {
     "name": "stderr",
     "output_type": "stream",
     "text": [
      " 15%|█▌        | 1523/10000 [00:10<00:59, 141.65it/s]"
     ]
    },
    {
     "name": "stdout",
     "output_type": "stream",
     "text": [
      "[it 1500] weight norms, users: 82.76641845703125, items: 63.17744445800781\n",
      "[it 1500] metrics (emb_loss, net_loss, reg, target): (0.59919262, 0.70403022, 3.9249868, 0.59919262)\n"
     ]
    },
    {
     "name": "stderr",
     "output_type": "stream",
     "text": [
      " 20%|██        | 2030/10000 [00:14<00:54, 146.28it/s]"
     ]
    },
    {
     "name": "stdout",
     "output_type": "stream",
     "text": [
      "[it 2000] weight norms, users: 85.9228286743164, items: 64.35868835449219\n",
      "[it 2000] metrics (emb_loss, net_loss, reg, target): (0.5282774, 0.70467424, 4.3517847, 0.5282774)\n"
     ]
    },
    {
     "name": "stderr",
     "output_type": "stream",
     "text": [
      " 25%|██▌       | 2528/10000 [00:17<00:52, 141.58it/s]"
     ]
    },
    {
     "name": "stdout",
     "output_type": "stream",
     "text": [
      "[it 2500] weight norms, users: 88.97989654541016, items: 65.68140411376953\n",
      "[it 2500] metrics (emb_loss, net_loss, reg, target): (0.53317988, 0.70270061, 4.5136185, 0.53317988)\n"
     ]
    },
    {
     "name": "stderr",
     "output_type": "stream",
     "text": [
      " 30%|███       | 3022/10000 [00:21<00:50, 137.43it/s]"
     ]
    },
    {
     "name": "stdout",
     "output_type": "stream",
     "text": [
      "[it 3000] weight norms, users: 91.72069549560547, items: 67.04741668701172\n",
      "[it 3000] metrics (emb_loss, net_loss, reg, target): (0.50043464, 0.70750308, 5.1881618, 0.50043464)\n"
     ]
    },
    {
     "name": "stderr",
     "output_type": "stream",
     "text": [
      " 35%|███▌      | 3522/10000 [00:24<00:42, 152.12it/s]"
     ]
    },
    {
     "name": "stdout",
     "output_type": "stream",
     "text": [
      "[it 3500] weight norms, users: 94.23944854736328, items: 68.34233093261719\n",
      "[it 3500] metrics (emb_loss, net_loss, reg, target): (0.48389506, 0.70406389, 5.3643951, 0.48389506)\n"
     ]
    },
    {
     "name": "stderr",
     "output_type": "stream",
     "text": [
      " 40%|████      | 4030/10000 [00:27<00:41, 144.74it/s]"
     ]
    },
    {
     "name": "stdout",
     "output_type": "stream",
     "text": [
      "[it 4000] weight norms, users: 96.54656219482422, items: 69.60066986083984\n",
      "[it 4000] metrics (emb_loss, net_loss, reg, target): (0.49377501, 0.70782673, 5.8822002, 0.49377501)\n"
     ]
    },
    {
     "name": "stderr",
     "output_type": "stream",
     "text": [
      " 45%|████▌     | 4529/10000 [00:31<00:38, 142.38it/s]"
     ]
    },
    {
     "name": "stdout",
     "output_type": "stream",
     "text": [
      "[it 4500] weight norms, users: 98.64763641357422, items: 70.78959655761719\n",
      "[it 4500] metrics (emb_loss, net_loss, reg, target): (0.46427977, 0.70821071, 5.9334311, 0.46427977)\n"
     ]
    },
    {
     "name": "stderr",
     "output_type": "stream",
     "text": [
      " 50%|█████     | 5016/10000 [00:34<00:35, 138.69it/s]"
     ]
    },
    {
     "name": "stdout",
     "output_type": "stream",
     "text": [
      "[it 5000] weight norms, users: 100.560791015625, items: 71.89558410644531\n",
      "[it 5000] metrics (emb_loss, net_loss, reg, target): (0.4700906, 0.70501626, 6.3233304, 0.4700906)\n"
     ]
    },
    {
     "name": "stderr",
     "output_type": "stream",
     "text": [
      " 55%|█████▌    | 5518/10000 [00:38<00:31, 144.12it/s]"
     ]
    },
    {
     "name": "stdout",
     "output_type": "stream",
     "text": [
      "[it 5500] weight norms, users: 102.37281799316406, items: 72.97994995117188\n",
      "[it 5500] metrics (emb_loss, net_loss, reg, target): (0.44489598, 0.70516729, 6.3320608, 0.44489598)\n"
     ]
    },
    {
     "name": "stderr",
     "output_type": "stream",
     "text": [
      " 60%|██████    | 6026/10000 [00:41<00:26, 147.57it/s]"
     ]
    },
    {
     "name": "stdout",
     "output_type": "stream",
     "text": [
      "[it 6000] weight norms, users: 104.06134796142578, items: 73.99163818359375\n",
      "[it 6000] metrics (emb_loss, net_loss, reg, target): (0.46869874, 0.70888555, 6.7141633, 0.46869874)\n"
     ]
    },
    {
     "name": "stderr",
     "output_type": "stream",
     "text": [
      " 65%|██████▌   | 6518/10000 [00:45<00:23, 148.05it/s]"
     ]
    },
    {
     "name": "stdout",
     "output_type": "stream",
     "text": [
      "[it 6500] weight norms, users: 105.61254119873047, items: 74.98857879638672\n",
      "[it 6500] metrics (emb_loss, net_loss, reg, target): (0.46705964, 0.70154798, 6.7897272, 0.46705964)\n"
     ]
    },
    {
     "name": "stderr",
     "output_type": "stream",
     "text": [
      " 70%|███████   | 7020/10000 [00:48<00:20, 147.41it/s]"
     ]
    },
    {
     "name": "stdout",
     "output_type": "stream",
     "text": [
      "[it 7000] weight norms, users: 107.10636138916016, items: 75.97007751464844\n",
      "[it 7000] metrics (emb_loss, net_loss, reg, target): (0.47428116, 0.70442253, 7.0190325, 0.47428116)\n"
     ]
    },
    {
     "name": "stderr",
     "output_type": "stream",
     "text": [
      " 75%|███████▌  | 7530/10000 [00:52<00:16, 147.85it/s]"
     ]
    },
    {
     "name": "stdout",
     "output_type": "stream",
     "text": [
      "[it 7500] weight norms, users: 108.4815902709961, items: 76.85244750976562\n",
      "[it 7500] metrics (emb_loss, net_loss, reg, target): (0.46208704, 0.70743942, 7.1428299, 0.46208704)\n"
     ]
    },
    {
     "name": "stderr",
     "output_type": "stream",
     "text": [
      " 80%|████████  | 8027/10000 [00:56<00:14, 136.54it/s]"
     ]
    },
    {
     "name": "stdout",
     "output_type": "stream",
     "text": [
      "[it 8000] weight norms, users: 109.81381225585938, items: 77.71915435791016\n",
      "[it 8000] metrics (emb_loss, net_loss, reg, target): (0.44220495, 0.70188463, 7.332922, 0.44220495)\n"
     ]
    },
    {
     "name": "stderr",
     "output_type": "stream",
     "text": [
      " 85%|████████▌ | 8524/10000 [00:59<00:10, 141.59it/s]"
     ]
    },
    {
     "name": "stdout",
     "output_type": "stream",
     "text": [
      "[it 8500] weight norms, users: 111.02297973632812, items: 78.5417709350586\n",
      "[it 8500] metrics (emb_loss, net_loss, reg, target): (0.43515632, 0.70286089, 7.3391666, 0.43515632)\n"
     ]
    },
    {
     "name": "stderr",
     "output_type": "stream",
     "text": [
      " 90%|█████████ | 9022/10000 [01:02<00:06, 143.43it/s]"
     ]
    },
    {
     "name": "stdout",
     "output_type": "stream",
     "text": [
      "[it 9000] weight norms, users: 112.17588806152344, items: 79.30311584472656\n",
      "[it 9000] metrics (emb_loss, net_loss, reg, target): (0.42468619, 0.70627141, 7.7736473, 0.42468619)\n"
     ]
    },
    {
     "name": "stderr",
     "output_type": "stream",
     "text": [
      " 95%|█████████▌| 9527/10000 [01:06<00:03, 148.08it/s]"
     ]
    },
    {
     "name": "stdout",
     "output_type": "stream",
     "text": [
      "[it 9500] weight norms, users: 113.2666015625, items: 80.08767700195312\n",
      "[it 9500] metrics (emb_loss, net_loss, reg, target): (0.42614955, 0.70893949, 7.6125226, 0.42614955)\n"
     ]
    },
    {
     "name": "stderr",
     "output_type": "stream",
     "text": [
      "100%|██████████| 10000/10000 [01:09<00:00, 143.42it/s]\n"
     ]
    }
   ],
   "source": [
    "losses = []\n",
    "batch_size = 512\n",
    "for n_batches, cur_optim in [(10000, model.trainer_3)]:\n",
    "    for i in tqdm(range(n_batches)):\n",
    "        batch = ds.sample_train_batch(n_samples=batch_size)\n",
    "        fd = {\n",
    "            model.user_ids:  batch['users'], \n",
    "            model.left_ids:  batch['left_items'],\n",
    "            model.right_ids: batch['right_items'],\n",
    "            model.target_y:  batch['y'],\n",
    "        }\n",
    "        el, nl, reg, t, _ = model.session.run(\n",
    "            [model.embedding_loss, model.net_loss, model.regularization, model.target, cur_optim], \n",
    "            feed_dict=fd\n",
    "        )\n",
    "        losses.append((el, nl, reg, t))\n",
    "        if i%500==0:\n",
    "            user_norm = np.linalg.norm(model.weights_u)\n",
    "            item_norm = np.linalg.norm(model.weights_i)\n",
    "            print('[it {}] weight norms, users: {}, items: {}'.format(i, user_norm, item_norm))\n",
    "            print('[it {}] metrics (emb_loss, net_loss, reg, target): {}'.format(i, losses[-1]))"
   ]
  },
  {
   "cell_type": "code",
   "execution_count": 53,
   "metadata": {
    "collapsed": false
   },
   "outputs": [
    {
     "data": {
      "text/plain": [
       "<matplotlib.text.Text at 0x114c7beb8>"
      ]
     },
     "execution_count": 53,
     "metadata": {},
     "output_type": "execute_result"
    },
    {
     "data": {
      "image/png": "[encoded data removed]",
      "text/plain": [
       "<matplotlib.figure.Figure at 0x1142e68d0>"
      ]
     },
     "metadata": {},
     "output_type": "display_data"
    }
   ],
   "source": [
    "plot([x[0] for x in losses], c='b', label='embedding_loss', alpha=0.5)\n",
    "plot([x[1] for x in losses], c='m', label='net_loss', alpha=0.5)\n",
    "plot([x[2]*model.alpha_reg for x in losses], c='r', label='reg*alpha', alpha=0.5)\n",
    "plot([x[3] for x in losses], c='g', label='target', alpha=0.5)\n",
    "grid()\n",
    "legend()\n",
    "xlabel('n_batches')\n",
    "ylabel('logloss')"
   ]
  },
  {
   "cell_type": "code",
   "execution_count": 31,
   "metadata": {
    "collapsed": false
   },
   "outputs": [
    {
     "name": "stderr",
     "output_type": "stream",
     "text": [
      "Prediction: 100%|██████████| 3938/3938 [00:07<00:00, 553.31it/s]\n"
     ]
    }
   ],
   "source": [
    "ndcg_vals = []\n",
    "for u in tqdm(ds.data_keys, desc='Prediction', leave=True):\n",
    "    response = np.zeros(len(ds.test[u]))\n",
    "    fd = {\n",
    "            model.user_ids:  (np.ones(len(ds.test[u]))*u).astype(np.int32), \n",
    "            model.left_ids:  np.array([i for (i, r) in ds.test[u]]).astype(np.int32),\n",
    "        }\n",
    "    response += model.session.run(model.embedding_left, feed_dict=fd)[:, 0]\n",
    "    response += model.session.run(model.left_output, feed_dict=fd)[:, 0]\n",
    "\n",
    "    # make relevances\n",
    "    relevances = np.array([r for (i, r) in ds.test[u]])\n",
    "    predicted_ranking = np.argsort(-response)\n",
    "    # calc score\n",
    "    gain = letor_metrics.ndcg_from_ranking(relevances, predicted_ranking, 10)\n",
    "    ndcg_vals.append(gain)"
   ]
  },
  {
   "cell_type": "code",
   "execution_count": 32,
   "metadata": {
    "collapsed": false
   },
   "outputs": [
    {
     "data": {
      "text/plain": [
       "0.67532712374057247"
      ]
     },
     "execution_count": 32,
     "metadata": {},
     "output_type": "execute_result"
    }
   ],
   "source": [
    "np.mean(ndcg_vals)"
   ]
  },
  {
   "cell_type": "code",
   "execution_count": null,
   "metadata": {
    "collapsed": true
   },
   "outputs": [],
   "source": []
  }
 ],
 "metadata": {
  "kernelspec": {
   "display_name": "IPython (Python 3)",
   "language": "python",
   "name": "python3"
  },
  "language_info": {
   "codemirror_mode": {
    "name": "ipython",
    "version": 3
   },
   "file_extension": ".py",
   "mimetype": "text/x-python",
   "name": "python",
   "nbconvert_exporter": "python",
   "pygments_lexer": "ipython3",
   "version": "3.4.3"
  }
 },
 "nbformat": 4,
 "nbformat_minor": 0
}
