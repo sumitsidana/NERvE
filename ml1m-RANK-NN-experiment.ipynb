{
 "cells": [
  {
   "cell_type": "code",
   "execution_count": 1,
   "metadata": {
    "collapsed": false
   },
   "outputs": [
    {
     "name": "stdout",
     "output_type": "stream",
     "text": [
      "Populating the interactive namespace from numpy and matplotlib\n"
     ]
    }
   ],
   "source": [
    "%pylab inline\n",
    "import random\n",
    "\n",
    "import numpy as np\n",
    "import random\n",
    "import pickle\n",
    "from tqdm import tqdm\n",
    "import letor_metrics"
   ]
  },
  {
   "cell_type": "code",
   "execution_count": 2,
   "metadata": {
    "collapsed": true
   },
   "outputs": [],
   "source": [
    "# raw_data = np.loadtxt('./data/ml-1m/ratings.dat', delimiter='::')"
   ]
  },
  {
   "cell_type": "code",
   "execution_count": 3,
   "metadata": {
    "collapsed": false
   },
   "outputs": [],
   "source": [
    "# from dataset import TripletsDataset"
   ]
  },
  {
   "cell_type": "code",
   "execution_count": 4,
   "metadata": {
    "collapsed": false
   },
   "outputs": [],
   "source": [
    "# ds = TripletsDataset(raw_data, threshold_user=60, rnd_seed=42)\n",
    "# ds.train_test_split(n_train=50)"
   ]
  },
  {
   "cell_type": "code",
   "execution_count": 5,
   "metadata": {
    "collapsed": false
   },
   "outputs": [],
   "source": [
    "# pickle.dump(ds, open('./tmp/ds_rank.pkl', 'wb'))\n",
    "ds = pickle.load(open('./tmp/ds.pkl', 'rb'))"
   ]
  },
  {
   "cell_type": "code",
   "execution_count": 6,
   "metadata": {
    "collapsed": false
   },
   "outputs": [],
   "source": [
    "ds.init_cached_random()"
   ]
  },
  {
   "cell_type": "markdown",
   "metadata": {
    "collapsed": true
   },
   "source": [
    "# define model"
   ]
  },
  {
   "cell_type": "code",
   "execution_count": 7,
   "metadata": {
    "collapsed": true
   },
   "outputs": [],
   "source": [
    "import tensorflow as tf\n",
    "import ranknn\n",
    "import imp\n",
    "\n",
    "import tensorflow.contrib.slim as slim"
   ]
  },
  {
   "cell_type": "code",
   "execution_count": 8,
   "metadata": {
    "collapsed": false
   },
   "outputs": [
    {
     "data": {
      "text/plain": [
       "<module 'ranknn' from '/Users/mikhail/std/repos/nnmf/ranknn.py'>"
      ]
     },
     "execution_count": 8,
     "metadata": {},
     "output_type": "execute_result"
    }
   ],
   "source": [
    "imp.reload(ranknn)"
   ]
  },
  {
   "cell_type": "code",
   "execution_count": 137,
   "metadata": {
    "collapsed": false
   },
   "outputs": [],
   "source": [
    "model.destroy()"
   ]
  },
  {
   "cell_type": "code",
   "execution_count": 138,
   "metadata": {
    "collapsed": false
   },
   "outputs": [],
   "source": [
    "N_USERS = 6041 #int(max(raw_data[:, 0])) + 1\n",
    "N_ITEMS = 3953 #int(max(raw_data[:, 1])) + 1\n",
    "N_EMBEDDINGS = 5"
   ]
  },
  {
   "cell_type": "code",
   "execution_count": 139,
   "metadata": {
    "collapsed": false
   },
   "outputs": [],
   "source": [
    "def inner_network(user_emb, item_emb_left, item_emb_right):\n",
    "    joined_input = tf.concat(1, [user_emb, item_emb_left, item_emb_right])\n",
    "    net = slim.fully_connected(inputs=joined_input, num_outputs=32, activation_fn=tf.nn.tanh)\n",
    "    net = slim.fully_connected(inputs=net, num_outputs=16, activation_fn=tf.nn.tanh)\n",
    "#     net = slim.fully_connected(inputs=net, num_outputs=64, activation_fn=tf.nn.relu)\n",
    "    net = slim.fully_connected(inputs=net, num_outputs=1, activation_fn=None)\n",
    "    return net"
   ]
  },
  {
   "cell_type": "code",
   "execution_count": 140,
   "metadata": {
    "collapsed": false
   },
   "outputs": [],
   "source": [
    "model = ranknn.RANK_NN(N_USERS, N_ITEMS, N_EMBEDDINGS, alpha=0.1, beta=1.0, alpha_reg=0.0, inner_net=inner_network)\n",
    "model.build_graph()\n",
    "model.initialize_session()"
   ]
  },
  {
   "cell_type": "code",
   "execution_count": 153,
   "metadata": {
    "collapsed": false
   },
   "outputs": [
    {
     "name": "stderr",
     "output_type": "stream",
     "text": [
      "  0%|          | 8/3000 [00:00<00:42, 69.93it/s]"
     ]
    },
    {
     "name": "stdout",
     "output_type": "stream",
     "text": [
      "[it 0] weight norms, users: 112.7284927368164, items: 147.66213989257812\n",
      "[it 0] metrics (emb_loss, net_loss, reg, target, hr): (0.43000406, 0.33777231, 12.625096, 0.38077271, 0.83984375)\n"
     ]
    },
    {
     "name": "stderr",
     "output_type": "stream",
     "text": [
      " 17%|█▋        | 517/3000 [00:03<00:18, 137.18it/s]"
     ]
    },
    {
     "name": "stdout",
     "output_type": "stream",
     "text": [
      "[it 500] weight norms, users: 112.89954376220703, items: 147.72178649902344\n",
      "[it 500] metrics (emb_loss, net_loss, reg, target, hr): (0.40446806, 0.34279212, 12.252331, 0.38323894, 0.853515625)\n"
     ]
    },
    {
     "name": "stderr",
     "output_type": "stream",
     "text": [
      " 34%|███▍      | 1021/3000 [00:07<00:14, 133.90it/s]"
     ]
    },
    {
     "name": "stdout",
     "output_type": "stream",
     "text": [
      "[it 1000] weight norms, users: 113.0478744506836, items: 147.80865478515625\n",
      "[it 1000] metrics (emb_loss, net_loss, reg, target, hr): (0.40530473, 0.33434707, 12.294188, 0.37487754, 0.853515625)\n"
     ]
    },
    {
     "name": "stderr",
     "output_type": "stream",
     "text": [
      " 51%|█████     | 1524/3000 [00:11<00:11, 132.81it/s]"
     ]
    },
    {
     "name": "stdout",
     "output_type": "stream",
     "text": [
      "[it 1500] weight norms, users: 113.14913940429688, items: 147.8690948486328\n",
      "[it 1500] metrics (emb_loss, net_loss, reg, target, hr): (0.40966672, 0.32553065, 12.814828, 0.36649731, 0.84765625)\n"
     ]
    },
    {
     "name": "stderr",
     "output_type": "stream",
     "text": [
      " 68%|██████▊   | 2028/3000 [00:15<00:07, 134.01it/s]"
     ]
    },
    {
     "name": "stdout",
     "output_type": "stream",
     "text": [
      "[it 2000] weight norms, users: 113.26321411132812, items: 147.92088317871094\n",
      "[it 2000] metrics (emb_loss, net_loss, reg, target, hr): (0.38336322, 0.30379087, 12.119209, 0.3421272, 0.86328125)\n"
     ]
    },
    {
     "name": "stderr",
     "output_type": "stream",
     "text": [
      " 84%|████████▍ | 2516/3000 [00:18<00:03, 134.54it/s]"
     ]
    },
    {
     "name": "stdout",
     "output_type": "stream",
     "text": [
      "[it 2500] weight norms, users: 113.38545227050781, items: 147.9624786376953\n",
      "[it 2500] metrics (emb_loss, net_loss, reg, target, hr): (0.39873359, 0.32299191, 12.470431, 0.36286527, 0.85546875)\n"
     ]
    },
    {
     "name": "stderr",
     "output_type": "stream",
     "text": [
      "100%|██████████| 3000/3000 [00:22<00:00, 132.39it/s]\n",
      "  1%|          | 26/3000 [00:00<00:24, 119.81it/s]"
     ]
    },
    {
     "name": "stdout",
     "output_type": "stream",
     "text": [
      "[it 0] weight norms, users: 113.4898681640625, items: 148.01036071777344\n",
      "[it 0] metrics (emb_loss, net_loss, reg, target, hr): (0.44922173, 0.30856645, 12.655931, 0.35348862, 0.853515625)\n"
     ]
    },
    {
     "name": "stderr",
     "output_type": "stream",
     "text": [
      " 17%|█▋        | 524/3000 [00:04<00:18, 133.66it/s]"
     ]
    },
    {
     "name": "stdout",
     "output_type": "stream",
     "text": [
      "[it 500] weight norms, users: 113.60368347167969, items: 148.05880737304688\n",
      "[it 500] metrics (emb_loss, net_loss, reg, target, hr): (0.36634439, 0.27866501, 12.298971, 0.31529945, 0.888671875)\n"
     ]
    },
    {
     "name": "stderr",
     "output_type": "stream",
     "text": [
      " 34%|███▍      | 1028/3000 [00:08<00:14, 132.69it/s]"
     ]
    },
    {
     "name": "stdout",
     "output_type": "stream",
     "text": [
      "[it 1000] weight norms, users: 113.72374725341797, items: 148.1063995361328\n",
      "[it 1000] metrics (emb_loss, net_loss, reg, target, hr): (0.43553224, 0.32337916, 12.379796, 0.36693239, 0.849609375)\n"
     ]
    },
    {
     "name": "stderr",
     "output_type": "stream",
     "text": [
      " 51%|█████     | 1518/3000 [00:11<00:11, 132.07it/s]"
     ]
    },
    {
     "name": "stdout",
     "output_type": "stream",
     "text": [
      "[it 1500] weight norms, users: 113.87969207763672, items: 148.14926147460938\n",
      "[it 1500] metrics (emb_loss, net_loss, reg, target, hr): (0.45166674, 0.31629023, 12.540597, 0.3614569, 0.849609375)\n"
     ]
    },
    {
     "name": "stderr",
     "output_type": "stream",
     "text": [
      " 67%|██████▋   | 2023/3000 [00:16<00:07, 128.85it/s]"
     ]
    },
    {
     "name": "stdout",
     "output_type": "stream",
     "text": [
      "[it 2000] weight norms, users: 114.00563049316406, items: 148.18968200683594\n",
      "[it 2000] metrics (emb_loss, net_loss, reg, target, hr): (0.38866878, 0.27226478, 12.348884, 0.31113166, 0.876953125)\n"
     ]
    },
    {
     "name": "stderr",
     "output_type": "stream",
     "text": [
      " 84%|████████▍ | 2521/3000 [00:21<00:04, 109.50it/s]"
     ]
    },
    {
     "name": "stdout",
     "output_type": "stream",
     "text": [
      "[it 2500] weight norms, users: 114.1119384765625, items: 148.25112915039062\n",
      "[it 2500] metrics (emb_loss, net_loss, reg, target, hr): (0.38003042, 0.28855532, 12.478168, 0.32655835, 0.869140625)\n"
     ]
    },
    {
     "name": "stderr",
     "output_type": "stream",
     "text": [
      "100%|██████████| 3000/3000 [00:25<00:00, 118.00it/s]\n"
     ]
    }
   ],
   "source": [
    "# losses = []\n",
    "batch_size = 512\n",
    "for n_batches, cur_optim in [(3000, model.trainer_3), (3000, model.trainer_3)]:\n",
    "    for i in tqdm(range(n_batches)):\n",
    "        batch = ds.sample_train_batch(n_samples=batch_size)\n",
    "        fd = {\n",
    "            model.user_ids:  batch['users'], \n",
    "            model.left_ids:  batch['left_items'],\n",
    "            model.right_ids: batch['right_items'],\n",
    "            model.target_y:  batch['y'],\n",
    "        }\n",
    "        el, nl, reg, t, m, _ = model.session.run(\n",
    "            [\n",
    "                model.embedding_loss, \n",
    "                model.net_loss, \n",
    "                model.regularization, \n",
    "                model.target, \n",
    "                model.net_margins, \n",
    "                cur_optim\n",
    "            ], \n",
    "            feed_dict=fd\n",
    "        )\n",
    "        hitrate = np.mean((m>0) == (batch['y']>0))\n",
    "        losses.append((el, nl, reg, t, hitrate))\n",
    "        if i%500==0:\n",
    "            user_norm = np.linalg.norm(model.weights_u)\n",
    "            item_norm = np.linalg.norm(model.weights_i)\n",
    "            print('[it {}] weight norms, users: {}, items: {}'.format(i, user_norm, item_norm))\n",
    "            print('[it {}] metrics (emb_loss, net_loss, reg, target, hr): {}'.format(i, losses[-1]))"
   ]
  },
  {
   "cell_type": "code",
   "execution_count": 154,
   "metadata": {
    "collapsed": false
   },
   "outputs": [
    {
     "data": {
      "text/plain": [
       "<matplotlib.text.Text at 0x1272ccb38>"
      ]
     },
     "execution_count": 154,
     "metadata": {},
     "output_type": "execute_result"
    },
    {
     "data": {
      "image/png": "[encoded data removed]",
      "text/plain": [
       "<matplotlib.figure.Figure at 0x112be2e80>"
      ]
     },
     "metadata": {},
     "output_type": "display_data"
    }
   ],
   "source": [
    "plot([x[0] for x in losses], c='b', label='embedding_loss', alpha=0.5)\n",
    "plot([x[1] for x in losses], c='m', label='net_loss', alpha=0.5)\n",
    "plot([x[2]*model.alpha_reg for x in losses], c='r', label='reg*alpha', alpha=0.5)\n",
    "plot([x[3] for x in losses], c='g', label='target', alpha=0.5)\n",
    "plot([x[4] for x in losses], c='orange', label='hitrate', alpha=0.5)\n",
    "grid()\n",
    "legend()\n",
    "xlabel('n_batches')\n",
    "ylabel('logloss')"
   ]
  },
  {
   "cell_type": "code",
   "execution_count": 155,
   "metadata": {
    "collapsed": false
   },
   "outputs": [],
   "source": [
    "# second approach"
   ]
  },
  {
   "cell_type": "code",
   "execution_count": 156,
   "metadata": {
    "collapsed": false
   },
   "outputs": [],
   "source": [
    "from itertools import product\n",
    "from heapq import nlargest\n",
    "import functools"
   ]
  },
  {
   "cell_type": "code",
   "execution_count": 161,
   "metadata": {
    "collapsed": false
   },
   "outputs": [],
   "source": [
    "def get_topk(u, batch_mode=True, out='net'):\n",
    "    ids = [k for k, v in ds.test[u]]\n",
    "    if batch_mode:\n",
    "        # batch mode == generate all pair, predict them at once and use for extract top-k\n",
    "        ij_list = np.array(list(product(ids, ids))).astype(np.int32)\n",
    "        fd = {\n",
    "            model.user_ids: np.array([u]*len(ij_list)).astype(np.int32),\n",
    "            model.left_ids: ij_list[:, 0],\n",
    "            model.right_ids: ij_list[:, 1]\n",
    "        }\n",
    "        if out=='net':\n",
    "            result = model.session.run(model.net_margins, feed_dict=fd)\n",
    "        else:\n",
    "            result = model.session.run(model.embedding_margins, feed_dict=fd)\n",
    "        comp_mat = np.sign(result.reshape(len(ids), len(ids))).astype(np.byte)\n",
    "        def comparator(x, y):\n",
    "            return comp_mat[y, x]\n",
    "    else:\n",
    "        # non-batch mode: ask about pair every time it needed\n",
    "        def comparator(x, y):\n",
    "            fd = {\n",
    "                model.user_ids: np.array([u]).astype(np.int32),\n",
    "                model.left_ids: np.array([ids[x]]).astype(np.int32),\n",
    "                model.right_ids: np.array([ids[y]]).astype(np.int32),\n",
    "            }\n",
    "            \n",
    "            if out=='net':\n",
    "                result = model.session.run(model.net_margins, feed_dict=fd)[0]\n",
    "            else:\n",
    "                result = model.session.run(model.embedding_margins, feed_dict=fd)[0]\n",
    "            return np.sign(-result)\n",
    "    \n",
    "    ratings = [v for k, v in ds.test[u]]       \n",
    "    return(nlargest(10, ratings, key=functools.cmp_to_key(comparator)))"
   ]
  },
  {
   "cell_type": "code",
   "execution_count": 162,
   "metadata": {
    "collapsed": false
   },
   "outputs": [
    {
     "name": "stdout",
     "output_type": "stream",
     "text": [
      "0.0322580645161\n",
      "CPU times: user 37 ms, sys: 26.3 ms, total: 63.3 ms\n",
      "Wall time: 52.2 ms\n"
     ]
    }
   ],
   "source": [
    "%%time\n",
    "u = 5\n",
    "y_true = np.array([v for k, v in ds.test[u][:10]])\n",
    "y_pred = np.array(get_topk(u, batch_mode=True, out='net'))\n",
    "print(letor_metrics.ndcg_score_from_raw(y_true, y_pred))"
   ]
  },
  {
   "cell_type": "code",
   "execution_count": 163,
   "metadata": {
    "collapsed": false
   },
   "outputs": [
    {
     "name": "stderr",
     "output_type": "stream",
     "text": [
      "Prediction: 100%|██████████| 100/100 [00:04<00:00, 20.69it/s]\n"
     ]
    }
   ],
   "source": [
    "ndcg_vals = []\n",
    "ndcg_hist =[]\n",
    "out_signal = 'net'\n",
    "for u in tqdm(ds.data_keys[:100], desc='Prediction', leave=True):\n",
    "    y_true = np.array([v for k, v in ds.test[u][:10]])\n",
    "#     if len(ds.test[u]) < 300:\n",
    "    y_pred = np.array(get_topk(u, batch_mode=True, out=out_signal))\n",
    "#     else:\n",
    "#     y_pred = np.array(get_topk(u, batch_mode=False, out=out_signal))\n",
    "    gain = letor_metrics.ndcg_score_from_raw(y_true, y_pred)\n",
    "    ndcg_vals.append(gain)"
   ]
  },
  {
   "cell_type": "code",
   "execution_count": 165,
   "metadata": {
    "collapsed": false
   },
   "outputs": [
    {
     "data": {
      "text/plain": [
       "0.5629913124407756"
      ]
     },
     "execution_count": 165,
     "metadata": {},
     "output_type": "execute_result"
    }
   ],
   "source": [
    "np.mean(ndcg_vals)"
   ]
  },
  {
   "cell_type": "code",
   "execution_count": null,
   "metadata": {
    "collapsed": true
   },
   "outputs": [],
   "source": []
  }
 ],
 "metadata": {
  "kernelspec": {
   "display_name": "Python 3",
   "language": "python",
   "name": "python3"
  },
  "language_info": {
   "codemirror_mode": {
    "name": "ipython",
    "version": 3
   },
   "file_extension": ".py",
   "mimetype": "text/x-python",
   "name": "python",
   "nbconvert_exporter": "python",
   "pygments_lexer": "ipython3",
   "version": "3.5.1"
  }
 },
 "nbformat": 4,
 "nbformat_minor": 1
}
