{
 "cells": [
  {
   "cell_type": "code",
   "execution_count": 1,
   "metadata": {
    "collapsed": true
   },
   "outputs": [],
   "source": [
    "import numpy as np\n",
    "import random\n",
    "from tqdm import tqdm"
   ]
  },
  {
   "cell_type": "code",
   "execution_count": 2,
   "metadata": {
    "collapsed": false
   },
   "outputs": [],
   "source": [
    "raw_data = np.loadtxt('./data/ml-100k/u.data', delimiter='\\t')\n",
    "raw_data = raw_data[:, :3].astype(int)"
   ]
  },
  {
   "cell_type": "markdown",
   "metadata": {},
   "source": [
    "# Define model"
   ]
  },
  {
   "cell_type": "code",
   "execution_count": 3,
   "metadata": {
    "collapsed": false
   },
   "outputs": [],
   "source": [
    "import tensorflow as tf"
   ]
  },
  {
   "cell_type": "code",
   "execution_count": 4,
   "metadata": {
    "collapsed": true
   },
   "outputs": [],
   "source": [
    "sess = tf.InteractiveSession()"
   ]
  },
  {
   "cell_type": "code",
   "execution_count": 5,
   "metadata": {
    "collapsed": false
   },
   "outputs": [],
   "source": [
    "N_USERS = max(raw_data[:, 0]) + 1\n",
    "N_ITEMS = max(raw_data[:, 1]) + 1\n",
    "N_HIDDEN = 10"
   ]
  },
  {
   "cell_type": "code",
   "execution_count": 6,
   "metadata": {
    "collapsed": true
   },
   "outputs": [],
   "source": [
    "# placeholders\n",
    "user_ids  = tf.placeholder(tf.int32, (None,), name='user_ids')\n",
    "left_ids  = tf.placeholder(tf.int32, (None,), name='left_ids')\n",
    "right_ids = tf.placeholder(tf.int32, (None,), name='right_ids')\n",
    "target_y  = tf.placeholder(tf.float32, (None,), name='target_y')\n",
    "alpha_reg = .5\n",
    "\n",
    "# main parameters\n",
    "user_latents = tf.Variable(tf.random_uniform(shape=(N_USERS, N_HIDDEN)), trainable=True, name='user_latents')\n",
    "item_latents = tf.Variable(tf.random_uniform(shape=(N_ITEMS, N_HIDDEN)), trainable=True, name='item_latents')\n",
    "\n",
    "## define batch processing\n",
    "\n",
    "# get embeddings for batch\n",
    "embedding_user  = tf.nn.embedding_lookup(user_latents, user_ids, name='embedding_user')\n",
    "embedding_left  = tf.nn.embedding_lookup(item_latents, left_ids, name='embedding_left')\n",
    "embedding_right = tf.nn.embedding_lookup(item_latents, right_ids, name='embedding_right')\n",
    "\n",
    "# raw margins for primal ranking loss\n",
    "embedding_diff = embedding_left - embedding_right\n",
    "\n",
    "# shape: [n_batch, ]\n",
    "embedding_margins = tf.reduce_sum(tf.mul(embedding_user, embedding_diff), axis=1, name='embedding_margins')"
   ]
  },
  {
   "cell_type": "code",
   "execution_count": 7,
   "metadata": {
    "collapsed": true
   },
   "outputs": [],
   "source": [
    "init_vars = tf.global_variables_initializer()\n",
    "sess.run(init_vars)"
   ]
  },
  {
   "cell_type": "code",
   "execution_count": null,
   "metadata": {
    "collapsed": true
   },
   "outputs": [],
   "source": []
  },
  {
   "cell_type": "code",
   "execution_count": 8,
   "metadata": {
    "collapsed": false
   },
   "outputs": [],
   "source": [
    "import tensorflow.contrib.slim as slim\n",
    "def network(user_emb, item_emb):\n",
    "    joined_input = tf.concat(1, [user_emb, item_emb])\n",
    "    net = slim.fully_connected(inputs=joined_input, num_outputs=64, activation_fn=tf.nn.relu)\n",
    "    net = slim.fully_connected(inputs=net, num_outputs=32, activation_fn=tf.nn.relu)\n",
    "    net = slim.fully_connected(inputs=net, num_outputs=16, activation_fn=tf.nn.relu)\n",
    "    net = slim.fully_connected(inputs=net, num_outputs=1, activation_fn=None)\n",
    "    return net\n",
    "\n",
    "def mean_logloss(raw_margins, target_values, tag):\n",
    "    # -y*f(x)\n",
    "    myfx = -1*tf.mul(target_values, raw_margins)\n",
    "    elementwise_logloss = tf.minimum(tf.log(1 + tf.exp(myfx)), 100, name='elwise_' + tag)\n",
    "    mean_loss = tf.reduce_mean(elementwise_logloss, name='mean_' + tag)\n",
    "    return mean_loss\n",
    "\n",
    "\n",
    "\n",
    "# apply shared net\n",
    "with tf.variable_scope(\"nn\"):\n",
    "    left_output = network(embedding_user, embedding_left)\n",
    "with tf.variable_scope(\"nn\", reuse=True):\n",
    "    right_output = network(embedding_user, embedding_right)\n",
    "\n",
    "# margins for net output\n",
    "net_margins = left_output - right_output\n",
    "\n",
    "# shape: [n_batch, 1] -> [n_batch, ]\n",
    "net_margins = tf.squeeze(net_margins, axis=1, name='net_margins')"
   ]
  },
  {
   "cell_type": "code",
   "execution_count": 9,
   "metadata": {
    "collapsed": false
   },
   "outputs": [],
   "source": [
    "# losses\n",
    "embedding_loss = mean_logloss(embedding_margins, target_y, 'embedding_loss')\n",
    "net_loss = mean_logloss(net_margins, target_y, 'net_loss')\n",
    "\n",
    "target = alpha_reg * embedding_loss + (1 - alpha_reg) * net_loss"
   ]
  },
  {
   "cell_type": "code",
   "execution_count": 10,
   "metadata": {
    "collapsed": false
   },
   "outputs": [],
   "source": [
    "# minimizers"
   ]
  },
  {
   "cell_type": "code",
   "execution_count": 11,
   "metadata": {
    "collapsed": false
   },
   "outputs": [],
   "source": [
    "trainer_3 = tf.train.AdamOptimizer(learning_rate=1e-3).minimize(target)\n",
    "trainer_4 = tf.train.AdamOptimizer(learning_rate=1e-4).minimize(target)"
   ]
  },
  {
   "cell_type": "code",
   "execution_count": 12,
   "metadata": {
    "collapsed": true
   },
   "outputs": [],
   "source": [
    "# init vars"
   ]
  },
  {
   "cell_type": "code",
   "execution_count": 13,
   "metadata": {
    "collapsed": true
   },
   "outputs": [],
   "source": [
    "init_vars = tf.global_variables_initializer()\n",
    "sess.run(init_vars)"
   ]
  },
  {
   "cell_type": "code",
   "execution_count": null,
   "metadata": {
    "collapsed": true
   },
   "outputs": [],
   "source": []
  },
  {
   "cell_type": "markdown",
   "metadata": {},
   "source": [
    "# reassemble data"
   ]
  },
  {
   "cell_type": "code",
   "execution_count": 14,
   "metadata": {
    "collapsed": false
   },
   "outputs": [],
   "source": [
    "class TriplesDataset(object):\n",
    "    def __init__(self, raw_data):\n",
    "        self.data = {}\n",
    "        for row in raw_data:\n",
    "            u, i, r = row\n",
    "            user_dict = self.data.get(u, {})\n",
    "            rating_list = user_dict.get(r, [])\n",
    "            rating_list.append(i)\n",
    "            user_dict[r] = rating_list\n",
    "            self.data[u] = user_dict\n",
    "        self.data_keys = list(self.data.keys())\n",
    "    \n",
    "    def generate_triple(self):\n",
    "        user = random.choice(self.data_keys)\n",
    "        stats = self.data[user]\n",
    "        stats_keys = list(stats.keys())\n",
    "        assert(len(stats_keys) > 1)\n",
    "        left_rating, right_rating = random.sample(stats_keys, 2)\n",
    "        left_value = random.choice(stats[left_rating])\n",
    "        right_value = random.choice(stats[right_rating])\n",
    "        y = (left_rating > right_rating)*2 - 1\n",
    "        return (user, left_value, right_value, y)\n",
    "    \n",
    "    def generate_batch(self, batch_size):\n",
    "        retval = []\n",
    "        for _ in range(batch_size):\n",
    "            retval.append(self.generate_triple())\n",
    "        retval = np.array(retval)\n",
    "        return {\n",
    "            'users': retval[:, 0].astype(np.int32), \n",
    "            'left_items': retval[:, 1].astype(np.int32),\n",
    "            'right_items': retval[:, 2].astype(np.int32),\n",
    "            'y': retval[:, 3].astype(np.float32),\n",
    "        }"
   ]
  },
  {
   "cell_type": "code",
   "execution_count": 15,
   "metadata": {
    "collapsed": false
   },
   "outputs": [],
   "source": [
    "dataset = TriplesDataset(raw_data)  "
   ]
  },
  {
   "cell_type": "code",
   "execution_count": 16,
   "metadata": {
    "collapsed": false
   },
   "outputs": [
    {
     "name": "stdout",
     "output_type": "stream",
     "text": [
      "CPU times: user 1.77 s, sys: 31 ms, total: 1.81 s\n",
      "Wall time: 1.83 s\n"
     ]
    }
   ],
   "source": [
    "%%time\n",
    "for _ in range(1000):\n",
    "    dataset.generate_batch(128)"
   ]
  },
  {
   "cell_type": "markdown",
   "metadata": {},
   "source": [
    "# Learning"
   ]
  },
  {
   "cell_type": "code",
   "execution_count": 17,
   "metadata": {
    "collapsed": false
   },
   "outputs": [
    {
     "name": "stderr",
     "output_type": "stream",
     "text": [
      "100%|██████████| 10000/10000 [01:17<00:00, 128.39it/s]\n"
     ]
    }
   ],
   "source": [
    "losses = []\n",
    "n_batches = 10000\n",
    "batch_size = 256\n",
    "for i in tqdm(range(n_batches)):\n",
    "    batch = dataset.generate_batch(batch_size)\n",
    "    fd = {\n",
    "        user_ids:  batch['users'], \n",
    "        left_ids:  batch['left_items'],\n",
    "        right_ids: batch['right_items'],\n",
    "        target_y:  batch['y'],\n",
    "    }\n",
    "    el, nl, _ = sess.run([embedding_loss, net_loss, trainer_3], feed_dict=fd)\n",
    "    losses.append((el, nl))"
   ]
  },
  {
   "cell_type": "code",
   "execution_count": 18,
   "metadata": {
    "collapsed": false
   },
   "outputs": [
    {
     "name": "stdout",
     "output_type": "stream",
     "text": [
      "Populating the interactive namespace from numpy and matplotlib\n"
     ]
    },
    {
     "name": "stderr",
     "output_type": "stream",
     "text": [
      "/usr/local/lib/python3.5/site-packages/IPython/core/magics/pylab.py:161: UserWarning: pylab import has clobbered these variables: ['random']\n",
      "`%matplotlib` prevents importing * from pylab and numpy\n",
      "  \"\\n`%matplotlib` prevents importing * from pylab and numpy\"\n"
     ]
    }
   ],
   "source": [
    "%pylab inline"
   ]
  },
  {
   "cell_type": "code",
   "execution_count": 19,
   "metadata": {
    "collapsed": false
   },
   "outputs": [
    {
     "data": {
      "text/plain": [
       "<matplotlib.text.Text at 0x10f60b780>"
      ]
     },
     "execution_count": 19,
     "metadata": {},
     "output_type": "execute_result"
    },
    {
     "data": {
      "image/png": "[encoded data removed]",
      "text/plain": [
       "<matplotlib.figure.Figure at 0x10f57f9b0>"
      ]
     },
     "metadata": {},
     "output_type": "display_data"
    }
   ],
   "source": [
    "plot([x[0] for x in losses], c='b', label='embedding_loss', alpha=0.5)\n",
    "plot([x[1] for x in losses], c='r', label='net_loss', alpha=0.5)\n",
    "grid()\n",
    "legend()\n",
    "xlabel('n_batches')\n",
    "ylabel('logloss')"
   ]
  },
  {
   "cell_type": "code",
   "execution_count": null,
   "metadata": {
    "collapsed": true
   },
   "outputs": [],
   "source": []
  }
 ],
 "metadata": {
  "kernelspec": {
   "display_name": "Python 3",
   "language": "python",
   "name": "python3"
  },
  "language_info": {
   "codemirror_mode": {
    "name": "ipython",
    "version": 3
   },
   "file_extension": ".py",
   "mimetype": "text/x-python",
   "name": "python",
   "nbconvert_exporter": "python",
   "pygments_lexer": "ipython3",
   "version": "3.5.1"
  }
 },
 "nbformat": 4,
 "nbformat_minor": 1
}
