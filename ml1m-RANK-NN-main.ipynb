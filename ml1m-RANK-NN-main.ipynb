{
 "cells": [
  {
   "cell_type": "code",
   "execution_count": 1,
   "metadata": {
    "collapsed": false
   },
   "outputs": [
    {
     "name": "stdout",
     "output_type": "stream",
     "text": [
      "Populating the interactive namespace from numpy and matplotlib\n"
     ]
    }
   ],
   "source": [
    "%pylab inline\n",
    "import random\n",
    "\n",
    "import numpy as np\n",
    "import random\n",
    "import pickle\n",
    "from tqdm import tqdm\n",
    "import letor_metrics"
   ]
  },
  {
   "cell_type": "code",
   "execution_count": 2,
   "metadata": {
    "collapsed": true
   },
   "outputs": [],
   "source": [
    "# raw_data = np.loadtxt('./data/ml-1m/ratings.dat', delimiter='::')"
   ]
  },
  {
   "cell_type": "code",
   "execution_count": 3,
   "metadata": {
    "collapsed": false
   },
   "outputs": [],
   "source": [
    "# from dataset import TripletsDataset"
   ]
  },
  {
   "cell_type": "code",
   "execution_count": 4,
   "metadata": {
    "collapsed": false
   },
   "outputs": [],
   "source": [
    "# ds = TripletsDataset(raw_data, threshold_user=60, rnd_seed=42)\n",
    "# ds.train_test_split(n_train=50)"
   ]
  },
  {
   "cell_type": "code",
   "execution_count": 5,
   "metadata": {
    "collapsed": false
   },
   "outputs": [],
   "source": [
    "# pickle.dump(ds, open('./tmp/ds_rank.pkl', 'wb'))\n",
    "ds = pickle.load(open('./tmp/ds.pkl', 'rb'))"
   ]
  },
  {
   "cell_type": "code",
   "execution_count": 6,
   "metadata": {
    "collapsed": false
   },
   "outputs": [],
   "source": [
    "ds.init_cached_random()"
   ]
  },
  {
   "cell_type": "markdown",
   "metadata": {
    "collapsed": true
   },
   "source": [
    "# define model"
   ]
  },
  {
   "cell_type": "code",
   "execution_count": 7,
   "metadata": {
    "collapsed": true
   },
   "outputs": [],
   "source": [
    "import tensorflow as tf\n",
    "import ranknn\n",
    "import imp\n",
    "\n",
    "import tensorflow.contrib.slim as slim"
   ]
  },
  {
   "cell_type": "code",
   "execution_count": 46,
   "metadata": {
    "collapsed": false
   },
   "outputs": [
    {
     "data": {
      "text/plain": [
       "<module 'ranknn' from '/Users/mikhail/std/repos/nnmf/ranknn.py'>"
      ]
     },
     "execution_count": 46,
     "metadata": {},
     "output_type": "execute_result"
    }
   ],
   "source": [
    "imp.reload(ranknn)"
   ]
  },
  {
   "cell_type": "code",
   "execution_count": 47,
   "metadata": {
    "collapsed": false
   },
   "outputs": [
    {
     "ename": "AttributeError",
     "evalue": "'RANK_NN' object has no attribute 'session'",
     "output_type": "error",
     "traceback": [
      "\u001b[0;31m---------------------------------------------------------------------------\u001b[0m",
      "\u001b[0;31mAttributeError\u001b[0m                            Traceback (most recent call last)",
      "\u001b[0;32m<ipython-input-47-5ebc97284abf>\u001b[0m in \u001b[0;36m<module>\u001b[0;34m()\u001b[0m\n\u001b[0;32m----> 1\u001b[0;31m \u001b[0mmodel\u001b[0m\u001b[0;34m.\u001b[0m\u001b[0mdestroy\u001b[0m\u001b[0;34m(\u001b[0m\u001b[0;34m)\u001b[0m\u001b[0;34m\u001b[0m\u001b[0m\n\u001b[0m",
      "\u001b[0;32m/Users/mikhail/std/repos/nnmf/ranknn.py\u001b[0m in \u001b[0;36mdestroy\u001b[0;34m(self)\u001b[0m\n\u001b[1;32m    117\u001b[0m \u001b[0;34m\u001b[0m\u001b[0m\n\u001b[1;32m    118\u001b[0m     \u001b[0;32mdef\u001b[0m \u001b[0mdestroy\u001b[0m\u001b[0;34m(\u001b[0m\u001b[0mself\u001b[0m\u001b[0;34m)\u001b[0m\u001b[0;34m:\u001b[0m\u001b[0;34m\u001b[0m\u001b[0m\n\u001b[0;32m--> 119\u001b[0;31m         \u001b[0mself\u001b[0m\u001b[0;34m.\u001b[0m\u001b[0msession\u001b[0m\u001b[0;34m.\u001b[0m\u001b[0mclose\u001b[0m\u001b[0;34m(\u001b[0m\u001b[0;34m)\u001b[0m\u001b[0;34m\u001b[0m\u001b[0m\n\u001b[0m\u001b[1;32m    120\u001b[0m         \u001b[0mself\u001b[0m\u001b[0;34m.\u001b[0m\u001b[0mgraph\u001b[0m \u001b[0;34m=\u001b[0m \u001b[0;32mNone\u001b[0m\u001b[0;34m\u001b[0m\u001b[0m\n",
      "\u001b[0;31mAttributeError\u001b[0m: 'RANK_NN' object has no attribute 'session'"
     ]
    }
   ],
   "source": [
    "model.destroy()"
   ]
  },
  {
   "cell_type": "code",
   "execution_count": 48,
   "metadata": {
    "collapsed": false
   },
   "outputs": [],
   "source": [
    "N_USERS = 6041 #int(max(raw_data[:, 0])) + 1\n",
    "N_ITEMS = 3953 #int(max(raw_data[:, 1])) + 1\n",
    "N_EMBEDDINGS = 20"
   ]
  },
  {
   "cell_type": "code",
   "execution_count": 49,
   "metadata": {
    "collapsed": true
   },
   "outputs": [],
   "source": [
    "def inner_network(user_emb, item_emb_left, item_emb_right):\n",
    "    joined_input = tf.concat(1, [user_emb, item_emb_left, item_emb_right])\n",
    "    net = slim.fully_connected(inputs=joined_input, num_outputs=64, activation_fn=tf.nn.relu)\n",
    "#     net = slim.fully_connected(inputs=net, num_outputs=128, activation_fn=tf.nn.relu)\n",
    "#     net = slim.fully_connected(inputs=net, num_outputs=32, activation_fn=tf.nn.relu)\n",
    "    net = slim.fully_connected(inputs=net, num_outputs=1, activation_fn=None)\n",
    "    return net"
   ]
  },
  {
   "cell_type": "code",
   "execution_count": 50,
   "metadata": {
    "collapsed": false
   },
   "outputs": [],
   "source": [
    "model = ranknn.RANK_NN(N_USERS, N_ITEMS, N_EMBEDDINGS, alpha=0., beta=0.9, alpha_reg=0.0, inner_net=inner_network)\n",
    "model.build_graph()\n",
    "model.initialize_session()"
   ]
  },
  {
   "cell_type": "code",
   "execution_count": 51,
   "metadata": {
    "collapsed": true
   },
   "outputs": [],
   "source": [
    "model.sw.add_graph(model.graph)"
   ]
  },
  {
   "cell_type": "code",
   "execution_count": 52,
   "metadata": {
    "collapsed": false
   },
   "outputs": [
    {
     "data": {
      "text/plain": [
       "'./tmp/'"
      ]
     },
     "execution_count": 52,
     "metadata": {},
     "output_type": "execute_result"
    }
   ],
   "source": [
    "model.saver.save(model.session, save_path='./tmp/')"
   ]
  },
  {
   "cell_type": "code",
   "execution_count": 47,
   "metadata": {
    "collapsed": false
   },
   "outputs": [
    {
     "name": "stderr",
     "output_type": "stream",
     "text": [
      "  0%|          | 6/5000 [00:00<06:30, 12.79it/s]"
     ]
    },
    {
     "name": "stdout",
     "output_type": "stream",
     "text": [
      "[it 0] weight norms, users: 161.9365234375, items: 200.6286163330078\n",
      "[it 0] metrics (emb_loss, net_loss, reg, target, hr): (0.81547177, 0.71982825, 19.949562, 0.64784539, 0.5)\n"
     ]
    },
    {
     "name": "stderr",
     "output_type": "stream",
     "text": [
      " 10%|█         | 508/5000 [00:08<01:12, 62.16it/s]"
     ]
    },
    {
     "name": "stdout",
     "output_type": "stream",
     "text": [
      "[it 500] weight norms, users: 176.4070587158203, items: 231.11866760253906\n",
      "[it 500] metrics (emb_loss, net_loss, reg, target, hr): (1.4171125, 0.48707008, 25.232042, 0.43836308, 0.376953125)\n"
     ]
    },
    {
     "name": "stderr",
     "output_type": "stream",
     "text": [
      " 20%|██        | 1012/5000 [00:16<01:04, 61.84it/s]"
     ]
    },
    {
     "name": "stdout",
     "output_type": "stream",
     "text": [
      "[it 1000] weight norms, users: 187.50326538085938, items: 247.4552001953125\n",
      "[it 1000] metrics (emb_loss, net_loss, reg, target, hr): (1.7082754, 0.47480917, 29.7292, 0.42732823, 0.3681640625)\n"
     ]
    },
    {
     "name": "stderr",
     "output_type": "stream",
     "text": [
      " 30%|███       | 1510/5000 [00:25<00:57, 60.86it/s]"
     ]
    },
    {
     "name": "stdout",
     "output_type": "stream",
     "text": [
      "[it 1500] weight norms, users: 199.8705291748047, items: 266.2725830078125\n",
      "[it 1500] metrics (emb_loss, net_loss, reg, target, hr): (1.8991516, 0.38454351, 35.124268, 0.34608915, 0.408203125)\n"
     ]
    },
    {
     "name": "stderr",
     "output_type": "stream",
     "text": [
      " 40%|████      | 2012/5000 [00:33<00:48, 61.50it/s]"
     ]
    },
    {
     "name": "stdout",
     "output_type": "stream",
     "text": [
      "[it 2000] weight norms, users: 210.58267211914062, items: 281.403564453125\n",
      "[it 2000] metrics (emb_loss, net_loss, reg, target, hr): (2.1259196, 0.36148661, 39.360611, 0.32533795, 0.427734375)\n"
     ]
    },
    {
     "name": "stderr",
     "output_type": "stream",
     "text": [
      " 50%|█████     | 2507/5000 [00:41<00:42, 58.50it/s]"
     ]
    },
    {
     "name": "stdout",
     "output_type": "stream",
     "text": [
      "[it 2500] weight norms, users: 219.90155029296875, items: 292.8920593261719\n",
      "[it 2500] metrics (emb_loss, net_loss, reg, target, hr): (2.3547029, 0.35616162, 43.626434, 0.32054546, 0.4130859375)\n"
     ]
    },
    {
     "name": "stderr",
     "output_type": "stream",
     "text": [
      " 60%|██████    | 3007/5000 [00:50<00:32, 60.82it/s]"
     ]
    },
    {
     "name": "stdout",
     "output_type": "stream",
     "text": [
      "[it 3000] weight norms, users: 228.30555725097656, items: 303.1051330566406\n",
      "[it 3000] metrics (emb_loss, net_loss, reg, target, hr): (2.3298965, 0.33658263, 46.884178, 0.30292436, 0.41796875)\n"
     ]
    },
    {
     "name": "stderr",
     "output_type": "stream",
     "text": [
      " 70%|███████   | 3507/5000 [00:59<00:25, 57.89it/s]"
     ]
    },
    {
     "name": "stdout",
     "output_type": "stream",
     "text": [
      "[it 3500] weight norms, users: 236.3151092529297, items: 312.4385681152344\n",
      "[it 3500] metrics (emb_loss, net_loss, reg, target, hr): (2.5653625, 0.32010609, 50.155518, 0.28809547, 0.4248046875)\n"
     ]
    },
    {
     "name": "stderr",
     "output_type": "stream",
     "text": [
      " 80%|████████  | 4010/5000 [01:08<00:17, 55.02it/s]"
     ]
    },
    {
     "name": "stdout",
     "output_type": "stream",
     "text": [
      "[it 4000] weight norms, users: 243.85191345214844, items: 321.36712646484375\n",
      "[it 4000] metrics (emb_loss, net_loss, reg, target, hr): (2.9051008, 0.31669402, 54.052185, 0.28502461, 0.43359375)\n"
     ]
    },
    {
     "name": "stderr",
     "output_type": "stream",
     "text": [
      " 90%|█████████ | 4513/5000 [01:16<00:08, 59.37it/s]"
     ]
    },
    {
     "name": "stdout",
     "output_type": "stream",
     "text": [
      "[it 4500] weight norms, users: 251.46896362304688, items: 329.9829406738281\n",
      "[it 4500] metrics (emb_loss, net_loss, reg, target, hr): (2.9323463, 0.30266497, 57.977211, 0.27239847, 0.4365234375)\n"
     ]
    },
    {
     "name": "stderr",
     "output_type": "stream",
     "text": [
      "100%|██████████| 5000/5000 [01:25<00:00, 58.41it/s]\n"
     ]
    }
   ],
   "source": [
    "losses = []\n",
    "batch_size = 1024\n",
    "for n_batches, cur_optim in [(5000, model.trainer_2)]:\n",
    "    for i in tqdm(range(n_batches)):\n",
    "        batch = ds.sample_train_batch(n_samples=batch_size)\n",
    "        fd = {\n",
    "            model.user_ids:  batch['users'], \n",
    "            model.left_ids:  batch['left_items'],\n",
    "            model.right_ids: batch['right_items'],\n",
    "            model.target_y:  batch['y'],\n",
    "        }\n",
    "        el, nl, reg, t, m, _ = model.session.run(\n",
    "            [model.embedding_loss, model.net_loss, model.regularization, model.target, model.net_margins, cur_optim], \n",
    "            feed_dict=fd\n",
    "        )\n",
    "        hitrate = np.mean((m>0) * (batch['y']>0))\n",
    "        losses.append((el, nl, reg, t, hitrate))\n",
    "        if i%500==0:\n",
    "            user_norm = np.linalg.norm(model.weights_u)\n",
    "            item_norm = np.linalg.norm(model.weights_i)\n",
    "            print('[it {}] weight norms, users: {}, items: {}'.format(i, user_norm, item_norm))\n",
    "            print('[it {}] metrics (emb_loss, net_loss, reg, target, hr): {}'.format(i, losses[-1]))"
   ]
  },
  {
   "cell_type": "code",
   "execution_count": 26,
   "metadata": {
    "collapsed": false
   },
   "outputs": [
    {
     "data": {
      "text/plain": [
       "<matplotlib.text.Text at 0x125c98160>"
      ]
     },
     "execution_count": 26,
     "metadata": {},
     "output_type": "execute_result"
    },
    {
     "data": {
      "image/png": "[encoded data removed]",
      "text/plain": [
       "<matplotlib.figure.Figure at 0x125a84ef0>"
      ]
     },
     "metadata": {},
     "output_type": "display_data"
    }
   ],
   "source": [
    "plot([x[0] for x in losses], c='b', label='embedding_loss', alpha=0.5)\n",
    "plot([x[1] for x in losses], c='m', label='net_loss', alpha=0.5)\n",
    "plot([x[2]*model.alpha_reg for x in losses], c='r', label='reg*alpha', alpha=0.5)\n",
    "plot([x[3] for x in losses], c='g', label='target', alpha=0.5)\n",
    "plot([x[4] for x in losses], c='m', label='hitrate', alpha=0.5)\n",
    "grid()\n",
    "legend()\n",
    "xlabel('n_batches')\n",
    "ylabel('logloss')"
   ]
  },
  {
   "cell_type": "code",
   "execution_count": 15,
   "metadata": {
    "collapsed": true
   },
   "outputs": [],
   "source": [
    "def compare_triple(model, u, i, j):\n",
    "    fd = {\n",
    "        model.user_ids:   np.array([u]).astype(np.int32), \n",
    "        model.left_ids:   np.array([i]).astype(np.int32),\n",
    "        model.right_ids:  np.array([j]).astype(np.int32)\n",
    "    }\n",
    "    net_margin, embed_margin = model.session.run([model.net_margins, model.embedding_margins], feed_dict=fd)\n",
    "    return net_margin[0]\n",
    "    "
   ]
  },
  {
   "cell_type": "code",
   "execution_count": 18,
   "metadata": {
    "collapsed": false
   },
   "outputs": [],
   "source": [
    "def sort_user(model, user_list, user_id, k=10):\n",
    "    te = [i for i, r in user_list]\n",
    "    res = []\n",
    "    if compare_triple(model, user_id, te[0], te[1]) > 0:\n",
    "        res = [0, 1]\n",
    "    else:\n",
    "        res = [1, 0]\n",
    "\n",
    "    for j, new in enumerate(te[2:]):\n",
    "        for i, base in enumerate(res[:k]):\n",
    "            if compare_triple(model, user_id, new, base) > 0:\n",
    "                res.insert(i, j)\n",
    "                break\n",
    "            res.append(j)\n",
    "        res = res[:k]\n",
    "#     print(res)\n",
    "    return [user_list[i][1] for i in res]"
   ]
  },
  {
   "cell_type": "code",
   "execution_count": 19,
   "metadata": {
    "collapsed": false
   },
   "outputs": [
    {
     "data": {
      "text/plain": [
       "[3, 2, 2, 2, 3, 3, 3, 3, 3, 3]"
      ]
     },
     "execution_count": 19,
     "metadata": {},
     "output_type": "execute_result"
    }
   ],
   "source": [
    "u = ds.data_keys[4]\n",
    "sort_user(model, ds.test[u], u, 10)"
   ]
  },
  {
   "cell_type": "code",
   "execution_count": 20,
   "metadata": {
    "collapsed": false
   },
   "outputs": [
    {
     "data": {
      "text/plain": [
       "<module 'letor_metrics' from '/Users/mikhail/std/repos/nnmf/letor_metrics.py'>"
      ]
     },
     "execution_count": 20,
     "metadata": {},
     "output_type": "execute_result"
    }
   ],
   "source": [
    "imp.reload(letor_metrics)"
   ]
  },
  {
   "cell_type": "code",
   "execution_count": 21,
   "metadata": {
    "collapsed": false
   },
   "outputs": [
    {
     "name": "stderr",
     "output_type": "stream",
     "text": [
      "Prediction: 100%|██████████| 100/100 [00:19<00:00,  2.32it/s]\n"
     ]
    }
   ],
   "source": [
    "ndcg_vals = []\n",
    "ndcg_hist =[]\n",
    "for u in tqdm(ds.data_keys[:100], desc='Prediction', leave=True):\n",
    "    predicted_relevances = sort_user(model, ds.test[u], u, k=10)\n",
    "    ndcg_hist.append(predicted_relevances)\n",
    "    gain = letor_metrics.ndcg_score_from_raw(np.array([v for k,v in ds.test[u][:10]]), \n",
    "                                             np.array(predicted_relevances))\n",
    "    ndcg_vals.append(gain)"
   ]
  },
  {
   "cell_type": "code",
   "execution_count": 22,
   "metadata": {
    "collapsed": false
   },
   "outputs": [
    {
     "data": {
      "text/plain": [
       "0.29608622721670358"
      ]
     },
     "execution_count": 22,
     "metadata": {},
     "output_type": "execute_result"
    }
   ],
   "source": [
    "np.mean(ndcg_vals)"
   ]
  },
  {
   "cell_type": "code",
   "execution_count": 60,
   "metadata": {
    "collapsed": false
   },
   "outputs": [
    {
     "data": {
      "text/plain": [
       "[0.4292000334710187,\n",
       " 0.14771294781349395,\n",
       " 0.48863939286386843,\n",
       " 0.46705114533134479,\n",
       " 0.281847256772355,\n",
       " 0.30411568871496136,\n",
       " 0.1754515310687248,\n",
       " 0.25523730621128138,\n",
       " 0.20970509785852331,\n",
       " 0.1530595538464225,\n",
       " 0.26217806148602074,\n",
       " 0.06910710909459572,\n",
       " 0.10511454143322035,\n",
       " 0.046130201889997537,\n",
       " 0.26509652738128958,\n",
       " 0.31555438436321354,\n",
       " 0.062516135052946759,\n",
       " 0.44800784266839122,\n",
       " 0.17090214494776762,\n",
       " 0.27540520449437417,\n",
       " 0.16996483752305172,\n",
       " 0.049849687463837299,\n",
       " 0.2380881581756682,\n",
       " 0.12454585702413341,\n",
       " 0.27417934563060076,\n",
       " 0.27577615499016056,\n",
       " 0.7691124763354289,\n",
       " 0.16952109131486781,\n",
       " 0.1530595538464225,\n",
       " 0.19143863401067854,\n",
       " 0.036532530545444454,\n",
       " 0.087815326201706165,\n",
       " 0.17618144872080505,\n",
       " 0.26197421724018521,\n",
       " 0.13510969885036322,\n",
       " 0.63107057111225029,\n",
       " 0.75173328794341721,\n",
       " 0.2168475842662223,\n",
       " 0.072023667553653137,\n",
       " 0.24279167047743566,\n",
       " 0.12517313113523615,\n",
       " 0.14420026539304082,\n",
       " 0.35528489523340806,\n",
       " 0.74520648869111894,\n",
       " 0.50104171439064304,\n",
       " 0.64978610019068417,\n",
       " 0.059520967636812028,\n",
       " 0.36013854583845345,\n",
       " 0.47599611933961838,\n",
       " 0.34238580442541627,\n",
       " 0.56780607614990353,\n",
       " 0.37320262992676995,\n",
       " 0.12034895673340545,\n",
       " 0.65098327065638961,\n",
       " 0.14905530356106531,\n",
       " 0.24525009641749698,\n",
       " 0.15549358547334419,\n",
       " 0.1980150994481307,\n",
       " 0.35975280595576348,\n",
       " 0.36283868559466453,\n",
       " 0.045116531199362458,\n",
       " 0.40823693336520656,\n",
       " 0.44803549835521173,\n",
       " 0.074856470896402627,\n",
       " 0.20779120702532269,\n",
       " 1.0001475812874914,\n",
       " 0.28260432678660136,\n",
       " 0.47781631852330025,\n",
       " 0.37863121992730597,\n",
       " 0.34349980553134746,\n",
       " 1.020732318990238,\n",
       " 0.83175854896048584,\n",
       " 0.24365297004257966,\n",
       " 0.31723979103887223,\n",
       " 0.032258064516129031,\n",
       " 0.1530595538464225,\n",
       " 0.18424296695717948,\n",
       " 0.54157237369283373,\n",
       " 0.66506757402227268,\n",
       " 0.28028885849199647,\n",
       " 0.47860364812868933,\n",
       " 0.19247358051743907,\n",
       " 0.16230515646780697,\n",
       " 0.15855024232147238,\n",
       " 0.046457533309553566,\n",
       " 0.33635753086668702,\n",
       " 0.2538556673756619,\n",
       " 0.046457533309553566,\n",
       " 0.50066182342933274,\n",
       " 0.048316666259522224,\n",
       " 0.18473038077943588,\n",
       " 0.71285163293009146,\n",
       " 0.083559080805252206,\n",
       " 0.44168447835849334,\n",
       " 0.3079621678442635,\n",
       " 0.10532312560701794,\n",
       " 0.032258064516129031,\n",
       " 0.082878517466000848,\n",
       " 0.22763301575003317,\n",
       " 0.090915072639795827]"
      ]
     },
     "execution_count": 60,
     "metadata": {},
     "output_type": "execute_result"
    }
   ],
   "source": [
    "ndcg_vals"
   ]
  },
  {
   "cell_type": "code",
   "execution_count": 84,
   "metadata": {
    "collapsed": false
   },
   "outputs": [
    {
     "data": {
      "text/plain": [
       "[3, 3, 3, 2, 2, 3, 3, 3, 2, 2]"
      ]
     },
     "execution_count": 84,
     "metadata": {},
     "output_type": "execute_result"
    }
   ],
   "source": [
    "ndcg_hist[0]"
   ]
  },
  {
   "cell_type": "code",
   "execution_count": 85,
   "metadata": {
    "collapsed": false
   },
   "outputs": [
    {
     "data": {
      "text/plain": [
       "[(3468, 5),\n",
       " (3578, 5),\n",
       " (1610, 5),\n",
       " (1259, 5),\n",
       " (3147, 5),\n",
       " (110, 5),\n",
       " (1945, 5),\n",
       " (515, 5),\n",
       " (480, 5),\n",
       " (1370, 5),\n",
       " (1193, 5),\n",
       " (590, 5),\n",
       " (1196, 5),\n",
       " (593, 5),\n",
       " (1124, 5),\n",
       " (1957, 5),\n",
       " (380, 5),\n",
       " (920, 5),\n",
       " (318, 5),\n",
       " (356, 5),\n",
       " (3068, 4),\n",
       " (1537, 4),\n",
       " (648, 4),\n",
       " (3035, 4),\n",
       " (1544, 4),\n",
       " (1188, 4),\n",
       " (3255, 4),\n",
       " (982, 4),\n",
       " (1873, 4),\n",
       " (2858, 4),\n",
       " (265, 4),\n",
       " (1442, 4),\n",
       " (2353, 4),\n",
       " (736, 4),\n",
       " (2571, 4),\n",
       " (2396, 4),\n",
       " (1955, 4),\n",
       " (349, 4),\n",
       " (1096, 4),\n",
       " (1527, 4),\n",
       " (3418, 4),\n",
       " (2628, 3),\n",
       " (1103, 3),\n",
       " (2916, 3),\n",
       " (2881, 3),\n",
       " (1217, 3),\n",
       " (2126, 3),\n",
       " (3108, 3),\n",
       " (3257, 3),\n",
       " (2278, 3),\n",
       " (2490, 3),\n",
       " (1690, 3),\n",
       " (3654, 3),\n",
       " (442, 3),\n",
       " (1408, 3),\n",
       " (1084, 3),\n",
       " (1265, 3),\n",
       " (1801, 3),\n",
       " (2359, 3),\n",
       " (2717, 3),\n",
       " (3735, 3),\n",
       " (1597, 3),\n",
       " (3809, 3),\n",
       " (165, 3),\n",
       " (2321, 3),\n",
       " (459, 3),\n",
       " (1385, 3),\n",
       " (498, 3),\n",
       " (3678, 3),\n",
       " (1213, 2),\n",
       " (3107, 2),\n",
       " (902, 2),\n",
       " (3256, 2),\n",
       " (3699, 2),\n",
       " (2427, 2),\n",
       " (95, 2),\n",
       " (1090, 2),\n",
       " (21, 1),\n",
       " (3893, 1)]"
      ]
     },
     "execution_count": 85,
     "metadata": {},
     "output_type": "execute_result"
    }
   ],
   "source": [
    "ds.test[ds.data_keys[0]]"
   ]
  },
  {
   "cell_type": "code",
   "execution_count": null,
   "metadata": {
    "collapsed": true
   },
   "outputs": [],
   "source": []
  }
 ],
 "metadata": {
  "kernelspec": {
   "display_name": "Python 3",
   "language": "python",
   "name": "python3"
  },
  "language_info": {
   "codemirror_mode": {
    "name": "ipython",
    "version": 3
   },
   "file_extension": ".py",
   "mimetype": "text/x-python",
   "name": "python",
   "nbconvert_exporter": "python",
   "pygments_lexer": "ipython3",
   "version": "3.5.1"
  }
 },
 "nbformat": 4,
 "nbformat_minor": 1
}
