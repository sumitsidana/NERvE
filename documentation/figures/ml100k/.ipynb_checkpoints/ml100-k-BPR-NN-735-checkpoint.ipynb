{
 "cells": [
  {
   "cell_type": "code",
   "execution_count": 1,
   "metadata": {
    "collapsed": false
   },
   "outputs": [
    {
     "name": "stdout",
     "output_type": "stream",
     "text": [
      "Populating the interactive namespace from numpy and matplotlib\n"
     ]
    },
    {
     "data": {
      "text/plain": [
       "(None, <pyximport.pyximport.PyxImporter at 0x7fe88835b9b0>)"
      ]
     },
     "execution_count": 1,
     "metadata": {},
     "output_type": "execute_result"
    }
   ],
   "source": [
    "%pylab inline\n",
    "import random\n",
    "\n",
    "import numpy as np\n",
    "import random\n",
    "import pickle\n",
    "from tqdm import tqdm\n",
    "import letor_metrics\n",
    "import pyximport\n",
    "pyximport.install()"
   ]
  },
  {
   "cell_type": "code",
   "execution_count": 2,
   "metadata": {
    "collapsed": false
   },
   "outputs": [],
   "source": [
    "raw_data = np.loadtxt('/home/sumit/ml-100k/u.data', delimiter='\\t')"
   ]
  },
  {
   "cell_type": "code",
   "execution_count": 3,
   "metadata": {
    "collapsed": false
   },
   "outputs": [],
   "source": [
    " from dataset import TripletsDataset"
   ]
  },
  {
   "cell_type": "code",
   "execution_count": 4,
   "metadata": {
    "collapsed": false
   },
   "outputs": [
    {
     "name": "stderr",
     "output_type": "stream",
     "text": [
      "Split users:  93%|█████████▎| 462/497 [00:00<00:00, 2138.42it/s]"
     ]
    },
    {
     "name": "stdout",
     "output_type": "stream",
     "text": [
      "Warning: random seed is None, default class seed (42) will be used\n"
     ]
    },
    {
     "name": "stderr",
     "output_type": "stream",
     "text": []
    }
   ],
   "source": [
    " ds = TripletsDataset(raw_data, threshold_user=60, rnd_seed=42)\n",
    " ds.train_test_split(n_train=50)"
   ]
  },
  {
   "cell_type": "code",
   "execution_count": 5,
   "metadata": {
    "collapsed": false
   },
   "outputs": [],
   "source": [
    "# pickle.dump(ds, open('./tmp/ds.pkl', 'wb'))\n",
    "# ds = pickle.load(open('./tmp/ds_50_mf.pkl', 'rb'))"
   ]
  },
  {
   "cell_type": "code",
   "execution_count": 6,
   "metadata": {
    "collapsed": false
   },
   "outputs": [],
   "source": [
    "ds.init_cached_random()"
   ]
  },
  {
   "cell_type": "markdown",
   "metadata": {
    "collapsed": true
   },
   "source": [
    "# define model"
   ]
  },
  {
   "cell_type": "code",
   "execution_count": 7,
   "metadata": {
    "collapsed": true
   },
   "outputs": [],
   "source": [
    "import tensorflow as tf\n",
    "import bprnn\n",
    "sess = tf.InteractiveSession()"
   ]
  },
  {
   "cell_type": "code",
   "execution_count": 8,
   "metadata": {
    "collapsed": true
   },
   "outputs": [],
   "source": [
    "import imp"
   ]
  },
  {
   "cell_type": "code",
   "execution_count": 9,
   "metadata": {
    "collapsed": false
   },
   "outputs": [
    {
     "data": {
      "text/plain": [
       "<module 'bprnn' from '/home/sumit/nnmf_ranking/nnmf/bprnn.py'>"
      ]
     },
     "execution_count": 9,
     "metadata": {},
     "output_type": "execute_result"
    }
   ],
   "source": [
    "imp.reload(bprnn)"
   ]
  },
  {
   "cell_type": "code",
   "execution_count": 10,
   "metadata": {
    "collapsed": false
   },
   "outputs": [],
   "source": [
    "# model.destroy()"
   ]
  },
  {
   "cell_type": "code",
   "execution_count": 11,
   "metadata": {
    "collapsed": false
   },
   "outputs": [],
   "source": [
    "N_USERS = 944 #int(max(raw_data[:, 0])) + 1\n",
    "N_ITEMS = 1683 #int(max(raw_data[:, 1])) + 1\n",
    "N_EMBEDDINGS = 1"
   ]
  },
  {
   "cell_type": "code",
   "execution_count": 12,
   "metadata": {
    "collapsed": true
   },
   "outputs": [],
   "source": [
    "import tensorflow.contrib.slim as slim\n",
    "\n",
    "def inner_network(user_emb, item_emb):\n",
    "    joined_input = tf.concat(1, [user_emb, item_emb])\n",
    "    net = slim.fully_connected(inputs=joined_input, num_outputs=64, activation_fn=tf.nn.relu)\n",
    "#     net = slim.fully_connected(inputs=joined_input, num_outputs=64, activation_fn=tf.nn.relu)\n",
    "#     net = slim.dro\n",
    "    net = slim.fully_connected(inputs=net, num_outputs=1, activation_fn=None)\n",
    "    return net"
   ]
  },
  {
   "cell_type": "code",
   "execution_count": 32,
   "metadata": {
    "collapsed": false
   },
   "outputs": [
    {
     "data": {
      "text/plain": [
       "<tf.Tensor 'Print:0' shape=(?, 1) dtype=float32>"
      ]
     },
     "execution_count": 32,
     "metadata": {},
     "output_type": "execute_result"
    }
   ],
   "source": [
    "model = bprnn.BPR_NN(N_USERS, N_ITEMS, N_EMBEDDINGS, alpha=1.0, beta=0, alpha_reg=0.0, inner_net=inner_network)\n",
    "model.build_graph()\n",
    "model.initialize_session()\n"
   ]
  },
  {
   "cell_type": "code",
   "execution_count": 35,
   "metadata": {
    "collapsed": false
   },
   "outputs": [
    {
     "name": "stderr",
     "output_type": "stream",
     "text": [
      "100%|██████████| 10000/10000 [45:01<00:00,  2.00it/s]\n"
     ]
    }
   ],
   "source": [
    "losses = []\n",
    "batch_size = 512\n",
    "for n_batches, cur_optim in [(10000, model.trainer_3)]:\n",
    "    for i in tqdm(range(n_batches)):\n",
    "        batch = ds.sample_train_batch(n_samples=batch_size)\n",
    "        fd = {\n",
    "            model.user_ids:  batch['users'], \n",
    "            model.left_ids:  batch['left_items'],\n",
    "            model.right_ids: batch['right_items'],\n",
    "            model.target_y:  batch['y'],\n",
    "        }\n",
    "        el, nl, reg, t, _ = model.session.run(\n",
    "            [model.embedding_loss, model.net_loss, model.regularization, model.target, cur_optim], \n",
    "            feed_dict=fd\n",
    "            )\n",
    "        tf.Print(model.embedding_left,[model.embedding_left],message=\"This is a: \")\n",
    "        losses.append((el, nl, reg, t))\n",
    "        if i%500==0:\n",
    "            user_norm = np.linalg.norm(model.weights_u)\n",
    "            item_norm = np.linalg.norm(model.weights_i)\n",
    "            #print('[it {}] weight norms, users: {}, items: {}'.format(i, user_norm, item_norm))\n",
    "            #print('[it {}] metrics (emb_loss, net_loss, reg, target): {}'.format(i, losses[-1]))"
   ]
  },
  {
   "cell_type": "code",
   "execution_count": null,
   "metadata": {
    "collapsed": false
   },
   "outputs": [],
   "source": [
    "plot([x[0] for x in losses], c='b', label='embedding_loss', alpha=0.5)\n",
    "plot([x[1] for x in losses], c='m', label='net_loss', alpha=0.5)\n",
    "plot([x[2]*model.alpha_reg for x in losses], c='r', label='reg*alpha', alpha=0.5)\n",
    "plot([x[3] for x in losses], c='g', label='target', alpha=0.5)\n",
    "grid()\n",
    "legend()\n",
    "xlabel('n_batches')\n",
    "ylabel('logloss')"
   ]
  },
  {
   "cell_type": "code",
   "execution_count": null,
   "metadata": {
    "collapsed": false
   },
   "outputs": [],
   "source": [
    "ndcg_vals = []\n",
    "for u in tqdm(ds.data_keys, desc='Prediction', leave=True):\n",
    "    response = np.zeros(len(ds.test[u]))\n",
    "    fd = {\n",
    "            model.user_ids:  (np.ones(len(ds.test[u]))*u).astype(np.int32), \n",
    "            model.left_ids:  np.array([i for (i, r) in ds.test[u]]).astype(np.int32),\n",
    "        }\n",
    "    response += model.session.run(model.embedding_left, feed_dict=fd)[:, 0]\n",
    "    response += model.session.run(model.left_output, feed_dict=fd)[:, 0]\n",
    "\n",
    "    # make relevances\n",
    "    relevances = np.array([r for (i, r) in ds.test[u]])\n",
    "    predicted_ranking = np.argsort(-response)\n",
    "    # calc score\n",
    "    gain = letor_metrics.ndcg_from_ranking(relevances, predicted_ranking, 10)\n",
    "    ndcg_vals.append(gain)"
   ]
  },
  {
   "cell_type": "code",
   "execution_count": null,
   "metadata": {
    "collapsed": false
   },
   "outputs": [],
   "source": [
    "np.mean(ndcg_vals)"
   ]
  },
  {
   "cell_type": "code",
   "execution_count": null,
   "metadata": {
    "collapsed": true
   },
   "outputs": [],
   "source": []
  }
 ],
 "metadata": {
  "kernelspec": {
   "display_name": "IPython (Python 3)",
   "language": "python",
   "name": "python3"
  },
  "language_info": {
   "codemirror_mode": {
    "name": "ipython",
    "version": 3
   },
   "file_extension": ".py",
   "mimetype": "text/x-python",
   "name": "python",
   "nbconvert_exporter": "python",
   "pygments_lexer": "ipython3",
   "version": "3.4.3"
  }
 },
 "nbformat": 4,
 "nbformat_minor": 0
}
